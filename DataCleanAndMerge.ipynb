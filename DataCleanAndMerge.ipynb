{
  "nbformat": 4,
  "nbformat_minor": 0,
  "metadata": {
    "colab": {
      "provenance": [],
      "authorship_tag": "ABX9TyNeoeuwoRYMEobeo1iK12Lg"
    },
    "kernelspec": {
      "name": "python3",
      "display_name": "Python 3"
    },
    "language_info": {
      "name": "python"
    }
  },
  "cells": [
    {
      "cell_type": "markdown",
      "source": [
        "# **Cleaning data and merging 2 excels files into one file.** ⚡\n",
        "\n",
        "\n",
        "if you have any questions you can ask me on linkedin messages\n",
        "\n",
        "Eng. Saud Almtuairi"
      ],
      "metadata": {
        "id": "U2-7TUQiGn3R"
      }
    },
    {
      "cell_type": "code",
      "execution_count": null,
      "metadata": {
        "id": "DZd1u7yCEPFZ"
      },
      "outputs": [],
      "source": [
        "import pandas as pd\n",
        "import numpy as np\n",
        "import random\n",
        "import matplotlib.pyplot as plt\n",
        "%matplotlib inline"
      ]
    },
    {
      "cell_type": "code",
      "source": [
        "#reading excel files\n",
        "df1 = pd.read_excel('text1.xlsx')"
      ],
      "metadata": {
        "id": "rBIRiZ6AEQRH"
      },
      "execution_count": null,
      "outputs": []
    },
    {
      "cell_type": "code",
      "source": [
        "df2 = pd.read_excel('text2.xlsx')"
      ],
      "metadata": {
        "id": "vUfM0EdkETOn"
      },
      "execution_count": null,
      "outputs": []
    },
    {
      "cell_type": "code",
      "source": [
        "#Summraies of data\n",
        "df1.info()"
      ],
      "metadata": {
        "id": "mura0qOZEyHZ"
      },
      "execution_count": null,
      "outputs": []
    },
    {
      "cell_type": "code",
      "source": [
        "#Summraies of data\n",
        "df2.info()"
      ],
      "metadata": {
        "id": "0BFscrOhEyZx"
      },
      "execution_count": null,
      "outputs": []
    },
    {
      "cell_type": "code",
      "source": [
        "#Statistical description\n",
        "df1.describe()"
      ],
      "metadata": {
        "id": "tjgl_j0-E1pG"
      },
      "execution_count": null,
      "outputs": []
    },
    {
      "cell_type": "code",
      "source": [
        "#Statistical description\n",
        "df2.describe()"
      ],
      "metadata": {
        "id": "xiCXdkJnE16r"
      },
      "execution_count": null,
      "outputs": []
    },
    {
      "cell_type": "code",
      "source": [
        "# Get the number of missing values in our data\n",
        "df1.isnull().sum()"
      ],
      "metadata": {
        "id": "fI9CFAi2FN2i"
      },
      "execution_count": null,
      "outputs": []
    },
    {
      "cell_type": "code",
      "source": [
        "# Get the number of missing values in our data\n",
        "df2.isnull().sum()"
      ],
      "metadata": {
        "id": "o7H9z1HWFSpY"
      },
      "execution_count": null,
      "outputs": []
    },
    {
      "cell_type": "code",
      "source": [
        "# Get the numbe rof unique values in the columns in our data\n",
        "df1.nunique()"
      ],
      "metadata": {
        "id": "ENGYIgu1FcID"
      },
      "execution_count": null,
      "outputs": []
    },
    {
      "cell_type": "code",
      "source": [
        "# Get the numbe rof unique values in the columns in our data\n",
        "df2.nunique()"
      ],
      "metadata": {
        "id": "uoYO6zixFcpW"
      },
      "execution_count": null,
      "outputs": []
    },
    {
      "cell_type": "code",
      "source": [
        "# Get the number of duplicate rows in our data\n",
        "df1.duplicated().sum()"
      ],
      "metadata": {
        "id": "4jNpXiviFN_5"
      },
      "execution_count": null,
      "outputs": []
    },
    {
      "cell_type": "code",
      "source": [
        "# Get the number of duplicate rows in our data\n",
        "df2.duplicated().sum()"
      ],
      "metadata": {
        "id": "pMgZwVV-FmTk"
      },
      "execution_count": null,
      "outputs": []
    },
    {
      "cell_type": "code",
      "source": [
        "# Make copies of original pieces of data\n",
        "df1_clean = df1.copy()\n",
        "df2_clean = df2.copy()"
      ],
      "metadata": {
        "id": "hREBR8QCFyq0"
      },
      "execution_count": null,
      "outputs": []
    },
    {
      "cell_type": "code",
      "source": [
        "# Convert timestamp column to datetime\n",
        "df1_clean['timestamp'] = pd.to_datetime(df1_clean['timestamp'])"
      ],
      "metadata": {
        "id": "QL9zS6MKF4ht"
      },
      "execution_count": null,
      "outputs": []
    },
    {
      "cell_type": "code",
      "source": [
        "# Check if our cleaning effort worked\n",
        "df1_clean.dtypes"
      ],
      "metadata": {
        "id": "zNCPFA_3F6AI"
      },
      "execution_count": null,
      "outputs": []
    },
    {
      "cell_type": "code",
      "source": [
        "# Convert id column to string\n",
        "df1_clean['id'] = df1_clean['id'].astype(str)"
      ],
      "metadata": {
        "id": "jV7sLKc8F9ds"
      },
      "execution_count": null,
      "outputs": []
    },
    {
      "cell_type": "code",
      "source": [
        "# Check if our cleaning effort worked\n",
        "df1_clean.dtypes"
      ],
      "metadata": {
        "id": "d21HBM86F-J-"
      },
      "execution_count": null,
      "outputs": []
    },
    {
      "cell_type": "code",
      "source": [
        "#@title Merge files into one file\n",
        "data = pd.merge(df1,df2 , on=['Email'], how=\"left\", suffixes=('', '_y'))"
      ],
      "metadata": {
        "id": "R1rimjkEEaAb"
      },
      "execution_count": null,
      "outputs": []
    },
    {
      "cell_type": "code",
      "source": [
        "data.columns"
      ],
      "metadata": {
        "id": "k6lnkswmGX2y"
      },
      "execution_count": null,
      "outputs": []
    },
    {
      "cell_type": "code",
      "source": [
        "data.info()"
      ],
      "metadata": {
        "id": "LunCQUdxGY99"
      },
      "execution_count": null,
      "outputs": []
    },
    {
      "cell_type": "code",
      "source": [
        "file_name = 'Merged.xlsx'\n",
        "data.to_excel(file_name)"
      ],
      "metadata": {
        "id": "v0wnijMTEmau"
      },
      "execution_count": null,
      "outputs": []
    },
    {
      "cell_type": "code",
      "source": [
        "data.sample()"
      ],
      "metadata": {
        "id": "BwiPLjrQEphc"
      },
      "execution_count": null,
      "outputs": []
    }
  ]
}